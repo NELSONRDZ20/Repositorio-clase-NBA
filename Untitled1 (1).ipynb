{
  "metadata": {
    "language_info": {
      "codemirror_mode": {
        "name": "python",
        "version": 3
      },
      "file_extension": ".py",
      "mimetype": "text/x-python",
      "name": "python",
      "nbconvert_exporter": "python",
      "pygments_lexer": "ipython3",
      "version": "3.8"
    },
    "kernelspec": {
      "name": "python",
      "display_name": "Python (Pyodide)",
      "language": "python"
    }
  },
  "nbformat_minor": 4,
  "nbformat": 4,
  "cells": [
    {
      "cell_type": "code",
      "source": "class JugadorNBA:\n    def __init__(self, nombre, equipo, puntuacion=0):\n        self.nombre = nombre\n        self.equipo = equipo\n        self._puntuacion = puntuacion\n\n    @property\n    def puntuacion(self):\n        return self._puntuacion\n\n    @puntuacion.setter\n    def puntuacion(self, valor):\n        if valor >= 0:\n            self._puntuacion = valor\n        else:\n            print(\"La puntuación no puede ser negativa.\")\n\n    def mostrar_informacion(self):\n        print(f\"Nombre: {self.nombre}\")\n        print(f\"Equipo: {self.equipo}\")\n        print(f\"Puntuación: {self.puntuacion}\")\n\n# Demostración de uso\njugador1 = JugadorNBA(\"LeBron James\", \"Los Angeles Lakers\")\njugador1.mostrar_informacion()\n\njugador2 = JugadorNBA(\"Stephen Curry\", \"Golden State Warriors\", 30)\njugador2.mostrar_informacion()\n\n# Actualizar la puntuación del jugador\njugador2.puntuacion = 35\njugador2.mostrar_informacion()\n\n# Intentar establecer una puntuación negativa (no debería cambiar)\njugador2.puntuacion = -5\njugador2.mostrar_informacion()",
      "metadata": {},
      "execution_count": null,
      "outputs": []
    }
  ]
}